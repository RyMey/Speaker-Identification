{
 "cells": [
  {
   "cell_type": "code",
   "execution_count": 1,
   "metadata": {},
   "outputs": [
    {
     "name": "stderr",
     "output_type": "stream",
     "text": [
      "WARNING (theano.configdefaults): g++ not available, if using conda: `conda install m2w64-toolchain`\n",
      "C:\\ProgramData\\Anaconda3\\lib\\site-packages\\theano\\configdefaults.py:560: UserWarning: DeprecationWarning: there is no c++ compiler.This is deprecated and with Theano 0.11 a c++ compiler will be mandatory\n",
      "  warnings.warn(\"DeprecationWarning: there is no c++ compiler.\"\n",
      "WARNING (theano.configdefaults): g++ not detected ! Theano will be unable to execute optimized C-implementations (for both CPU and GPU) and will default to Python implementations. Performance will be severely degraded. To remove this warning, set Theano flags cxx to an empty string.\n",
      "WARNING (theano.tensor.blas): Using NumPy C-API based implementation for BLAS functions.\n"
     ]
    }
   ],
   "source": [
    "# 0. import library\n",
    "import numpy as np\n",
    "import copy\n",
    "from scipy.io import wavfile\n",
    "from matplotlib import pyplot as plt\n",
    "import pandas as pd\n",
    "from sklearn import datasets\n",
    "from neupy import algorithms, environment"
   ]
  },
  {
   "cell_type": "code",
   "execution_count": 2,
   "metadata": {},
   "outputs": [],
   "source": [
    "# 1. membuat fungsi mfcc\n",
    "def Hamming_Window(n):\n",
    "    w = []\n",
    "    for i in range(0,n):\n",
    "        temp = 0.54 - 0.46 * np.cos((2*np.pi*i)/(n-1))\n",
    "        w.append(temp)\n",
    "    return w\n",
    "\n",
    "# mengambil mfcc dari suara 0-1.5 second\n",
    "def getMFCC(fileDirectory):\n",
    "    #get sample rate,signal,pre emphasis, dan emphasized\n",
    "    sample_rateku, signalku = wavfile.read(fileDirectory)\n",
    "    signalku = signalku[0:int(1.5 * sample_rateku)]\n",
    "    timesku = np.arange(len(signalku))/float(sample_rateku)\n",
    "\n",
    "    pre_emphasisku = 0.97\n",
    "    emphasized_signalku = np.append(signalku[0], signalku[1:]- pre_emphasisku * signalku[:-1])\n",
    "    \n",
    "    # Ukuran frame adalah 25 milidetik,\n",
    "    # dan overlap 15 milidetik (dalam ukuran waktu/detik)\n",
    "    frame_sizeku = 0.025\n",
    "    frame_strideku = 0.01\n",
    "\n",
    "    # Konversi dari detik ke sample\n",
    "    frame_lengthku = int(round(frame_sizeku * sample_rateku))\n",
    "    frame_stepku = int(round(frame_strideku * sample_rateku))\n",
    "\n",
    "    # Ukuran sinyal dalam Sample\n",
    "    signal_lengthku = len(emphasized_signalku)\n",
    "\n",
    "    # Pastikan setidaknya ada 1 frame\n",
    "    num_framesku = int(np.ceil(float(np.abs(signal_lengthku - frame_lengthku)) / frame_stepku))\n",
    "\n",
    "    pad_signal_lengthku = num_framesku * frame_stepku + frame_lengthku\n",
    "    zku = np.zeros((pad_signal_lengthku - signal_lengthku))\n",
    "    pad_signalku = np.append(emphasized_signalku, zku)\n",
    "\n",
    "    indicesku = np.tile(np.arange(0, frame_lengthku), (num_framesku, 1))\n",
    "    + np.tile(np.arange(0, num_framesku * frame_stepku, frame_stepku)\n",
    "    , (frame_lengthku, 1)).T\n",
    "    framesku = pad_signalku[indicesku.astype(np.int32, copy=False)]\n",
    "\n",
    "    # windowing\n",
    "    framesHWku = copy.copy(framesku)\n",
    "    framesHWku *= np.hamming(frame_lengthku)\n",
    "\n",
    "    # Magnitude of the FFT\n",
    "    NFFTku = 512\n",
    "    mag_framesku = np.absolute(np.fft.rfft(framesku, NFFTku))\n",
    "\n",
    "    # Power Spectrum\n",
    "    pow_framesku = ((1.0 / NFFTku) * ((mag_framesku) ** 2))\n",
    "\n",
    "    # Misalkan yang diambil adalah:\n",
    "    nfiltku = 40\n",
    "\n",
    "    low_freq_melku = 0\n",
    "    high_freq_melku = (2595 * np.log10(1 + (sample_rateku / 2) / 700)) # Convert Hz to Mel\n",
    "    mel_pointsku = np.linspace(low_freq_melku, high_freq_melku, nfiltku + 2)\n",
    "    hz_pointsku = (700 * (10**(mel_pointsku / 2595) - 1)) # Convert Mel to Hz\n",
    "    bin = np.floor((NFFTku + 1) * hz_pointsku / sample_rateku)\n",
    "\n",
    "\n",
    "    fbankku = np.zeros((nfiltku, int(np.floor(NFFTku / 2 + 1))))\n",
    "    for m in range(1, nfiltku + 1):\n",
    "        f_m_minus = int(bin[m - 1]) # left\n",
    "        f_m = int(bin[m]) # center\n",
    "        f_m_plus = int(bin[m + 1]) # right\n",
    "        for k in range(f_m_minus, f_m):\n",
    "            fbankku[m - 1, k] = (k - bin[m - 1]) / (bin[m] - bin[m - 1])\n",
    "        for k in range(f_m, f_m_plus):\n",
    "            fbankku[m - 1, k] = (bin[m + 1] - k) / (bin[m + 1] - bin[m])\n",
    "    filter_banksku = np.dot(pow_framesku, fbankku.T)\n",
    "    filter_banksku = np.where(filter_banksku == 0, np.finfo(float).eps, filter_banksku)\n",
    "    filter_banksku = 20 * np.log10(filter_banksku) # dB\n",
    "\n",
    "    num_cepsku = 13\n",
    "\n",
    "    from scipy.fftpack import dct\n",
    "    # Keep 2-14\n",
    "    mfccku = dct(filter_banksku, type=2, axis=1, norm='ortho')[:, 1 : (num_cepsku + 1)]\n",
    "    mfccku -= (np.mean(mfccku, axis=0) + 1e-8)\n",
    " \n",
    "    return mfccku"
   ]
  },
  {
   "cell_type": "code",
   "execution_count": 32,
   "metadata": {},
   "outputs": [
    {
     "name": "stdout",
     "output_type": "stream",
     "text": [
      "Memproses data: faruq\n",
      "Memproses data: putra\n",
      "Memproses data: rya\n"
     ]
    }
   ],
   "source": [
    "# 2. Plot semua data\n",
    "#anggota = [\"faruq\",\"ismail\",\"nurul\",\"putra\",\"rya\"]\n",
    "anggota = [\"faruq\",\"putra\",\"rya\"]\n",
    "mfccAnggota = []\n",
    "mfccAnggotaUji = []\n",
    "\n",
    "def rataRataMfcc(x):\n",
    "    mfcc_row = []\n",
    "    for k in range(len(x[0])):\n",
    "        sumCol = 0\n",
    "        for l in range(len(x)):\n",
    "            #print(l,k)\n",
    "            sumCol += x[l][k]\n",
    "        mfcc_row.append((sumCol/(len(x[k])+1)))\n",
    "    mfccAnggota.append(mfcc_row)\n",
    "    return mfccAnggota\n",
    "\n",
    "#pembagian 80:20 jadi ada 6 data uji dan 24 data latih\n",
    "for i in range(len(anggota)):\n",
    "    nama = anggota[i]\n",
    "    print(\"Memproses data:\",nama)\n",
    "    for j in range(0,6):\n",
    "        mfcc = getMFCC(\"./Dataset/\" + nama + \"/\"+nama + \"_\" + str(j+1) + \".wav\")\n",
    "    for j in range(6,30):\n",
    "        mfccUji = getMFCC(\"./Dataset/\" + nama + \"/\"+nama + \"_\" + str(j+1) + \".wav\")\n",
    "    \n",
    "    mfccAnggota = rataRataMfcc(mfcc)\n",
    "    mfccAnggotaUji = rataRataMfcc(mfccUji)"
   ]
  },
  {
   "cell_type": "code",
   "execution_count": 31,
   "metadata": {},
   "outputs": [
    {
     "name": "stdout",
     "output_type": "stream",
     "text": [
      "6 6\n"
     ]
    },
    {
     "ename": "IndexError",
     "evalue": "list index out of range",
     "output_type": "error",
     "traceback": [
      "\u001b[1;31m---------------------------------------------------------------------------\u001b[0m",
      "\u001b[1;31mIndexError\u001b[0m                                Traceback (most recent call last)",
      "\u001b[1;32m<ipython-input-31-fd1488072444>\u001b[0m in \u001b[0;36m<module>\u001b[1;34m()\u001b[0m\n\u001b[0;32m     12\u001b[0m     \u001b[1;32mfor\u001b[0m \u001b[0mj\u001b[0m \u001b[1;32min\u001b[0m \u001b[0mrange\u001b[0m\u001b[1;33m(\u001b[0m\u001b[0mlen\u001b[0m\u001b[1;33m(\u001b[0m\u001b[0mmfccAnggota\u001b[0m\u001b[1;33m[\u001b[0m\u001b[1;36m0\u001b[0m\u001b[1;33m]\u001b[0m\u001b[1;33m)\u001b[0m\u001b[1;33m)\u001b[0m\u001b[1;33m:\u001b[0m\u001b[1;33m\u001b[0m\u001b[0m\n\u001b[0;32m     13\u001b[0m         \u001b[0mdataLatih\u001b[0m\u001b[1;33m.\u001b[0m\u001b[0mappend\u001b[0m\u001b[1;33m(\u001b[0m\u001b[0mmfccAnggota\u001b[0m\u001b[1;33m[\u001b[0m\u001b[0mi\u001b[0m\u001b[1;33m]\u001b[0m\u001b[1;33m[\u001b[0m\u001b[0mj\u001b[0m\u001b[1;33m]\u001b[0m\u001b[1;33m)\u001b[0m\u001b[1;33m\u001b[0m\u001b[0m\n\u001b[1;32m---> 14\u001b[1;33m         \u001b[0mtargetLatih\u001b[0m\u001b[1;33m.\u001b[0m\u001b[0mappend\u001b[0m\u001b[1;33m(\u001b[0m\u001b[0manggota\u001b[0m\u001b[1;33m[\u001b[0m\u001b[0mi\u001b[0m\u001b[1;33m]\u001b[0m\u001b[1;33m)\u001b[0m\u001b[1;33m\u001b[0m\u001b[0m\n\u001b[0m\u001b[0;32m     15\u001b[0m \u001b[1;33m\u001b[0m\u001b[0m\n\u001b[0;32m     16\u001b[0m \u001b[1;32mfor\u001b[0m \u001b[0mi\u001b[0m \u001b[1;32min\u001b[0m \u001b[0mrange\u001b[0m\u001b[1;33m(\u001b[0m\u001b[0mlen\u001b[0m\u001b[1;33m(\u001b[0m\u001b[0mmfccAnggotaUji\u001b[0m\u001b[1;33m)\u001b[0m\u001b[1;33m)\u001b[0m\u001b[1;33m:\u001b[0m\u001b[1;33m\u001b[0m\u001b[0m\n",
      "\u001b[1;31mIndexError\u001b[0m: list index out of range"
     ]
    }
   ],
   "source": [
    "# 3. pengambilan data latih dan data uji\n",
    "environment.reproducible()\n",
    "dataLatih = []\n",
    "targetLatih = []\n",
    "dataUji = []\n",
    "targetUji = []\n",
    "\n",
    "print(len(mfccAnggota),len(mfccAnggotaUji))\n",
    "\n",
    "#pembagian 80:20 jadi ada 6 data uji dan 24 data latih\n",
    "for i in range(len(mfccAnggota)):\n",
    "    for j in range(len(mfccAnggota[0])):\n",
    "        dataLatih.append(mfccAnggota[i][j])\n",
    "        targetLatih.append(anggota[i])\n",
    "\n",
    "for i in range(len(mfccAnggotaUji)):\n",
    "    for j in range(len(mfccAnggotaUji[0])):\n",
    "        dataUji.append(mfccAnggotaUji[i][j])\n",
    "        targetUji.append(anggota[i])"
   ]
  },
  {
   "cell_type": "code",
   "execution_count": 18,
   "metadata": {},
   "outputs": [
    {
     "name": "stdout",
     "output_type": "stream",
     "text": [
      "13 21\n"
     ]
    }
   ],
   "source": [
    "print(len(mfcc[0]),len(targetLatih)) # jumlah anggota * 30"
   ]
  }
 ],
 "metadata": {
  "kernelspec": {
   "display_name": "Python 3",
   "language": "python",
   "name": "python3"
  },
  "language_info": {
   "codemirror_mode": {
    "name": "ipython",
    "version": 3
   },
   "file_extension": ".py",
   "mimetype": "text/x-python",
   "name": "python",
   "nbconvert_exporter": "python",
   "pygments_lexer": "ipython3",
   "version": "3.6.4"
  }
 },
 "nbformat": 4,
 "nbformat_minor": 2
}
