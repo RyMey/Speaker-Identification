{
  "cells": [
    {
      "cell_type": "code",
      "source": [
        "# 0. import library\n",
        "import numpy as np\n",
        "import copy\n",
        "from scipy.io import wavfile\n",
        "from matplotlib import pyplot as plt\n",
        "import pandas as pd\n",
        "from sklearn import datasets\n",
        "from neupy import algorithms, environment"
      ],
      "outputs": [],
      "execution_count": 6,
      "metadata": {}
    },
    {
      "cell_type": "code",
      "source": [
        "# 1. membuat fungsi mfcc\n",
        "def Hamming_Window(n):\n",
        "    w = []\n",
        "    for i in range(0,n):\n",
        "        temp = 0.54 - 0.46 * np.cos((2*np.pi*i)/(n-1))\n",
        "        w.append(temp)\n",
        "    return w\n",
        "\n",
        "# mengambil mfcc dari suara 0-1.5 second\n",
        "def getMFCC(fileDirectory):\n",
        "    #get sample rate,signal,pre emphasis, dan emphasized\n",
        "    sample_rateku, signalku = wavfile.read(fileDirectory)\n",
        "    signalku = signalku[0:int(1.5 * sample_rateku)]\n",
        "    timesku = np.arange(len(signalku))/float(sample_rateku)\n",
        "\n",
        "    pre_emphasisku = 0.97\n",
        "    emphasized_signalku = np.append(signalku[0], signalku[1:]- pre_emphasisku * signalku[:-1])\n",
        "    \n",
        "    # Ukuran frame adalah 25 milidetik,\n",
        "    # dan overlap 15 milidetik (dalam ukuran waktu/detik)\n",
        "    frame_sizeku = 0.025\n",
        "    frame_strideku = 0.01\n",
        "\n",
        "    # Konversi dari detik ke sample\n",
        "    frame_lengthku = int(round(frame_sizeku * sample_rateku))\n",
        "    frame_stepku = int(round(frame_strideku * sample_rateku))\n",
        "\n",
        "    # Ukuran sinyal dalam Sample\n",
        "    signal_lengthku = len(emphasized_signalku)\n",
        "\n",
        "    # Pastikan setidaknya ada 1 frame\n",
        "    num_framesku = int(np.ceil(float(np.abs(signal_lengthku - frame_lengthku)) / frame_stepku))\n",
        "\n",
        "    pad_signal_lengthku = num_framesku * frame_stepku + frame_lengthku\n",
        "    zku = np.zeros((pad_signal_lengthku - signal_lengthku))\n",
        "    pad_signalku = np.append(emphasized_signalku, zku)\n",
        "\n",
        "    indicesku = np.tile(np.arange(0, frame_lengthku), (num_framesku, 1))\n",
        "    + np.tile(np.arange(0, num_framesku * frame_stepku, frame_stepku)\n",
        "    , (frame_lengthku, 1)).T\n",
        "    framesku = pad_signalku[indicesku.astype(np.int32, copy=False)]\n",
        "\n",
        "    # windowing\n",
        "    framesHWku = copy.copy(framesku)\n",
        "    framesHWku *= np.hamming(frame_lengthku)\n",
        "\n",
        "    # Magnitude of the FFT\n",
        "    NFFTku = 512\n",
        "    mag_framesku = np.absolute(np.fft.rfft(framesku, NFFTku))\n",
        "\n",
        "    # Power Spectrum\n",
        "    pow_framesku = ((1.0 / NFFTku) * ((mag_framesku) ** 2))\n",
        "\n",
        "    # Misalkan yang diambil adalah:\n",
        "    nfiltku = 40\n",
        "\n",
        "    low_freq_melku = 0\n",
        "    high_freq_melku = (2595 * np.log10(1 + (sample_rateku / 2) / 700)) # Convert Hz to Mel\n",
        "    mel_pointsku = np.linspace(low_freq_melku, high_freq_melku, nfiltku + 2)\n",
        "    hz_pointsku = (700 * (10**(mel_pointsku / 2595) - 1)) # Convert Mel to Hz\n",
        "    bin = np.floor((NFFTku + 1) * hz_pointsku / sample_rateku)\n",
        "\n\n",
        "    fbankku = np.zeros((nfiltku, int(np.floor(NFFTku / 2 + 1))))\n",
        "    for m in range(1, nfiltku + 1):\n",
        "        f_m_minus = int(bin[m - 1]) # left\n",
        "        f_m = int(bin[m]) # center\n",
        "        f_m_plus = int(bin[m + 1]) # right\n",
        "        for k in range(f_m_minus, f_m):\n",
        "            fbankku[m - 1, k] = (k - bin[m - 1]) / (bin[m] - bin[m - 1])\n",
        "        for k in range(f_m, f_m_plus):\n",
        "            fbankku[m - 1, k] = (bin[m + 1] - k) / (bin[m + 1] - bin[m])\n",
        "    filter_banksku = np.dot(pow_framesku, fbankku.T)\n",
        "    filter_banksku = np.where(filter_banksku == 0, np.finfo(float).eps, filter_banksku)\n",
        "    filter_banksku = 20 * np.log10(filter_banksku) # dB\n",
        "\n",
        "    num_cepsku = 13\n",
        "\n",
        "    from scipy.fftpack import dct\n",
        "    # Keep 2-14\n",
        "    mfccku = dct(filter_banksku, type=2, axis=1, norm='ortho')[:, 1 : (num_cepsku + 1)]\n",
        "    mfccku -= (np.mean(mfccku, axis=0) + 1e-8)\n",
        " \n",
        "    return mfccku"
      ],
      "outputs": [],
      "execution_count": 7,
      "metadata": {}
    },
    {
      "cell_type": "code",
      "source": [
        "# 2. Plot semua data\n",
        "#anggota = [\"faruq\",\"ismail\",\"nurul\",\"putra\",\"rya\"]\n",
        "anggota = [\"faruq\",\"putra\",\"rya\"]\n",
        "mfccAnggota = []\n",
        "\n",
        "for i in range(len(anggota)):\n",
        "    nama = anggota[i]\n",
        "    print(\"Memproses data:\",nama)\n",
        "    for j in range(0,30):\n",
        "        mfcc = getMFCC(\"./Dataset-processed/\" + nama + \"/\"+nama + \"_\" + str(j+1) + \".wav\")\n",
        "    \n",
        "    mfcc_row = []\n",
        "    for k in range(len(mfcc[0])):\n",
        "        sumCol = 0\n",
        "        for l in range(len(mfcc)):\n",
        "            #print(l,k)\n",
        "            sumCol += mfcc[l][k]\n",
        "        mfcc_row.append((sumCol/(len(mfcc[k])+1)))\n",
        "    mfccAnggota.append(mfcc_row)"
      ],
      "outputs": [
        {
          "output_type": "stream",
          "name": "stdout",
          "text": [
            "Memproses data: faruq\n"
          ]
        },
        {
          "output_type": "error",
          "ename": "FileNotFoundError",
          "evalue": "[Errno 2] No such file or directory: './Dataset/faruq/faruq_1.wav'",
          "traceback": [
            "\u001b[0;31m---------------------------------------------------------------------------\u001b[0m",
            "\u001b[0;31mFileNotFoundError\u001b[0m                         Traceback (most recent call last)",
            "\u001b[0;32m<ipython-input-13-f1637ec2682e>\u001b[0m in \u001b[0;36m<module>\u001b[0;34m()\u001b[0m\n\u001b[1;32m      8\u001b[0m     \u001b[0mprint\u001b[0m\u001b[0;34m(\u001b[0m\u001b[0;34m\"Memproses data:\"\u001b[0m\u001b[0;34m,\u001b[0m\u001b[0mnama\u001b[0m\u001b[0;34m)\u001b[0m\u001b[0;34m\u001b[0m\u001b[0m\n\u001b[1;32m      9\u001b[0m     \u001b[0;32mfor\u001b[0m \u001b[0mj\u001b[0m \u001b[0;32min\u001b[0m \u001b[0mrange\u001b[0m\u001b[0;34m(\u001b[0m\u001b[0;36m0\u001b[0m\u001b[0;34m,\u001b[0m\u001b[0;36m30\u001b[0m\u001b[0;34m)\u001b[0m\u001b[0;34m:\u001b[0m\u001b[0;34m\u001b[0m\u001b[0m\n\u001b[0;32m---> 10\u001b[0;31m         \u001b[0mmfcc\u001b[0m \u001b[0;34m=\u001b[0m \u001b[0mgetMFCC\u001b[0m\u001b[0;34m(\u001b[0m\u001b[0;34m\"./Dataset/\"\u001b[0m \u001b[0;34m+\u001b[0m \u001b[0mnama\u001b[0m \u001b[0;34m+\u001b[0m \u001b[0;34m\"/\"\u001b[0m\u001b[0;34m+\u001b[0m\u001b[0mnama\u001b[0m \u001b[0;34m+\u001b[0m \u001b[0;34m\"_\"\u001b[0m \u001b[0;34m+\u001b[0m \u001b[0mstr\u001b[0m\u001b[0;34m(\u001b[0m\u001b[0mj\u001b[0m\u001b[0;34m+\u001b[0m\u001b[0;36m1\u001b[0m\u001b[0;34m)\u001b[0m \u001b[0;34m+\u001b[0m \u001b[0;34m\".wav\"\u001b[0m\u001b[0;34m)\u001b[0m\u001b[0;34m\u001b[0m\u001b[0m\n\u001b[0m\u001b[1;32m     11\u001b[0m \u001b[0;34m\u001b[0m\u001b[0m\n\u001b[1;32m     12\u001b[0m     \u001b[0mmfcc_row\u001b[0m \u001b[0;34m=\u001b[0m \u001b[0;34m[\u001b[0m\u001b[0;34m]\u001b[0m\u001b[0;34m\u001b[0m\u001b[0m\n",
            "\u001b[0;32m<ipython-input-7-6cee3a0c9875>\u001b[0m in \u001b[0;36mgetMFCC\u001b[0;34m(fileDirectory)\u001b[0m\n\u001b[1;32m     10\u001b[0m \u001b[0;32mdef\u001b[0m \u001b[0mgetMFCC\u001b[0m\u001b[0;34m(\u001b[0m\u001b[0mfileDirectory\u001b[0m\u001b[0;34m)\u001b[0m\u001b[0;34m:\u001b[0m\u001b[0;34m\u001b[0m\u001b[0m\n\u001b[1;32m     11\u001b[0m     \u001b[0;31m#get sample rate,signal,pre emphasis, dan emphasized\u001b[0m\u001b[0;34m\u001b[0m\u001b[0;34m\u001b[0m\u001b[0m\n\u001b[0;32m---> 12\u001b[0;31m     \u001b[0msample_rateku\u001b[0m\u001b[0;34m,\u001b[0m \u001b[0msignalku\u001b[0m \u001b[0;34m=\u001b[0m \u001b[0mwavfile\u001b[0m\u001b[0;34m.\u001b[0m\u001b[0mread\u001b[0m\u001b[0;34m(\u001b[0m\u001b[0mfileDirectory\u001b[0m\u001b[0;34m)\u001b[0m\u001b[0;34m\u001b[0m\u001b[0m\n\u001b[0m\u001b[1;32m     13\u001b[0m     \u001b[0msignalku\u001b[0m \u001b[0;34m=\u001b[0m \u001b[0msignalku\u001b[0m\u001b[0;34m[\u001b[0m\u001b[0;36m0\u001b[0m\u001b[0;34m:\u001b[0m\u001b[0mint\u001b[0m\u001b[0;34m(\u001b[0m\u001b[0;36m1.5\u001b[0m \u001b[0;34m*\u001b[0m \u001b[0msample_rateku\u001b[0m\u001b[0;34m)\u001b[0m\u001b[0;34m]\u001b[0m\u001b[0;34m\u001b[0m\u001b[0m\n\u001b[1;32m     14\u001b[0m     \u001b[0mtimesku\u001b[0m \u001b[0;34m=\u001b[0m \u001b[0mnp\u001b[0m\u001b[0;34m.\u001b[0m\u001b[0marange\u001b[0m\u001b[0;34m(\u001b[0m\u001b[0mlen\u001b[0m\u001b[0;34m(\u001b[0m\u001b[0msignalku\u001b[0m\u001b[0;34m)\u001b[0m\u001b[0;34m)\u001b[0m\u001b[0;34m/\u001b[0m\u001b[0mfloat\u001b[0m\u001b[0;34m(\u001b[0m\u001b[0msample_rateku\u001b[0m\u001b[0;34m)\u001b[0m\u001b[0;34m\u001b[0m\u001b[0m\n",
            "\u001b[0;32m~/.local/lib/python3.6/site-packages/scipy/io/wavfile.py\u001b[0m in \u001b[0;36mread\u001b[0;34m(filename, mmap)\u001b[0m\n\u001b[1;32m    231\u001b[0m         \u001b[0mmmap\u001b[0m \u001b[0;34m=\u001b[0m \u001b[0;32mFalse\u001b[0m\u001b[0;34m\u001b[0m\u001b[0m\n\u001b[1;32m    232\u001b[0m     \u001b[0;32melse\u001b[0m\u001b[0;34m:\u001b[0m\u001b[0;34m\u001b[0m\u001b[0m\n\u001b[0;32m--> 233\u001b[0;31m         \u001b[0mfid\u001b[0m \u001b[0;34m=\u001b[0m \u001b[0mopen\u001b[0m\u001b[0;34m(\u001b[0m\u001b[0mfilename\u001b[0m\u001b[0;34m,\u001b[0m \u001b[0;34m'rb'\u001b[0m\u001b[0;34m)\u001b[0m\u001b[0;34m\u001b[0m\u001b[0m\n\u001b[0m\u001b[1;32m    234\u001b[0m \u001b[0;34m\u001b[0m\u001b[0m\n\u001b[1;32m    235\u001b[0m     \u001b[0;32mtry\u001b[0m\u001b[0;34m:\u001b[0m\u001b[0;34m\u001b[0m\u001b[0m\n",
            "\u001b[0;31mFileNotFoundError\u001b[0m: [Errno 2] No such file or directory: './Dataset/faruq/faruq_1.wav'"
          ]
        }
      ],
      "execution_count": 13,
      "metadata": {}
    },
    {
      "cell_type": "code",
      "source": [
        "# 3. pengambilan dataset\n",
        "environment.reproducible()\n",
        "data = mfccAnggota\n",
        "target = anggota"
      ],
      "outputs": [],
      "execution_count": 9,
      "metadata": {}
    },
    {
      "cell_type": "code",
      "source": [
        "print(data)\n",
        "print(target)"
      ],
      "outputs": [
        {
          "output_type": "stream",
          "name": "stdout",
          "text": [
            "[]\n",
            "['faruq', 'putra', 'rya']\n"
          ]
        }
      ],
      "execution_count": 12,
      "metadata": {}
    },
    {
      "cell_type": "code",
      "source": [],
      "outputs": [],
      "execution_count": null,
      "metadata": {
        "collapsed": false,
        "outputHidden": false,
        "inputHidden": false
      }
    }
  ],
  "metadata": {
    "kernelspec": {
      "name": "python3",
      "language": "python",
      "display_name": "Python 3"
    },
    "language_info": {
      "name": "python",
      "version": "3.6.4",
      "mimetype": "text/x-python",
      "codemirror_mode": {
        "name": "ipython",
        "version": 3
      },
      "pygments_lexer": "ipython3",
      "nbconvert_exporter": "python",
      "file_extension": ".py"
    },
    "kernel_info": {
      "name": "python3"
    },
    "nteract": {
      "version": "0.8.4"
    }
  },
  "nbformat": 4,
  "nbformat_minor": 2
}