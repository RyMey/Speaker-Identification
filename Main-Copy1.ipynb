{
 "cells": [
  {
   "cell_type": "code",
   "execution_count": 1,
   "metadata": {},
   "outputs": [
    {
     "name": "stderr",
     "output_type": "stream",
     "text": [
      "WARNING (theano.configdefaults): g++ not available, if using conda: `conda install m2w64-toolchain`\n",
      "c:\\users\\ismail\\appdata\\local\\programs\\python\\python36-32\\lib\\site-packages\\theano\\configdefaults.py:560: UserWarning: DeprecationWarning: there is no c++ compiler.This is deprecated and with Theano 0.11 a c++ compiler will be mandatory\n",
      "  warnings.warn(\"DeprecationWarning: there is no c++ compiler.\"\n",
      "WARNING (theano.configdefaults): g++ not detected ! Theano will be unable to execute optimized C-implementations (for both CPU and GPU) and will default to Python implementations. Performance will be severely degraded. To remove this warning, set Theano flags cxx to an empty string.\n",
      "WARNING (theano.tensor.blas): Using NumPy C-API based implementation for BLAS functions.\n"
     ]
    }
   ],
   "source": [
    "# 0. import library\n",
    "import numpy as np\n",
    "import copy\n",
    "from scipy.io import wavfile\n",
    "from matplotlib import pyplot as plt\n",
    "import pandas as pd\n",
    "from sklearn import datasets\n",
    "from neupy import algorithms, environment"
   ]
  },
  {
   "cell_type": "code",
   "execution_count": 2,
   "metadata": {},
   "outputs": [],
   "source": [
    "# 1. membuat fungsi mfcc\n",
    "def Hamming_Window(n):\n",
    "    w = []\n",
    "    for i in range(0,n):\n",
    "        temp = 0.54 - 0.46 * np.cos((2*np.pi*i)/(n-1))\n",
    "        w.append(temp)\n",
    "    return w\n",
    "\n",
    "# mengambil mfcc dari suara 0-1.5 second\n",
    "def getMFCC(fileDirectory):\n",
    "    #get sample rate,signal,pre emphasis, dan emphasized\n",
    "    sample_rateku, signalku = wavfile.read(fileDirectory)\n",
    "    signalku = signalku[0:int(1.5 * sample_rateku)]\n",
    "    timesku = np.arange(len(signalku))/float(sample_rateku)\n",
    "\n",
    "    pre_emphasisku = 0.97\n",
    "    emphasized_signalku = np.append(signalku[0], signalku[1:]- pre_emphasisku * signalku[:-1])\n",
    "    \n",
    "    # Ukuran frame adalah 25 milidetik,\n",
    "    # dan overlap 15 milidetik (dalam ukuran waktu/detik)\n",
    "    frame_sizeku = 0.025\n",
    "    frame_strideku = 0.01\n",
    "\n",
    "    # Konversi dari detik ke sample\n",
    "    frame_lengthku = int(round(frame_sizeku * sample_rateku))\n",
    "    frame_stepku = int(round(frame_strideku * sample_rateku))\n",
    "\n",
    "    # Ukuran sinyal dalam Sample\n",
    "    signal_lengthku = len(emphasized_signalku)\n",
    "\n",
    "    # Pastikan setidaknya ada 1 frame\n",
    "    num_framesku = int(np.ceil(float(np.abs(signal_lengthku - frame_lengthku)) / frame_stepku))\n",
    "\n",
    "    pad_signal_lengthku = num_framesku * frame_stepku + frame_lengthku\n",
    "    zku = np.zeros((pad_signal_lengthku - signal_lengthku))\n",
    "    pad_signalku = np.append(emphasized_signalku, zku)\n",
    "\n",
    "    indicesku = np.tile(np.arange(0, frame_lengthku), (num_framesku, 1))\n",
    "    + np.tile(np.arange(0, num_framesku * frame_stepku, frame_stepku)\n",
    "    , (frame_lengthku, 1)).T\n",
    "    framesku = pad_signalku[indicesku.astype(np.int32, copy=False)]\n",
    "\n",
    "    # windowing\n",
    "    framesHWku = copy.copy(framesku)\n",
    "    framesHWku *= np.hamming(frame_lengthku)\n",
    "\n",
    "    # Magnitude of the FFT\n",
    "    NFFTku = 512\n",
    "    mag_framesku = np.absolute(np.fft.rfft(framesku, NFFTku))\n",
    "\n",
    "    # Power Spectrum\n",
    "    pow_framesku = ((1.0 / NFFTku) * ((mag_framesku) ** 2))\n",
    "\n",
    "    # Misalkan yang diambil adalah:\n",
    "    nfiltku = 40\n",
    "\n",
    "    low_freq_melku = 0\n",
    "    high_freq_melku = (2595 * np.log10(1 + (sample_rateku / 2) / 700)) # Convert Hz to Mel\n",
    "    mel_pointsku = np.linspace(low_freq_melku, high_freq_melku, nfiltku + 2)\n",
    "    hz_pointsku = (700 * (10**(mel_pointsku / 2595) - 1)) # Convert Mel to Hz\n",
    "    bin = np.floor((NFFTku + 1) * hz_pointsku / sample_rateku)\n",
    "\n",
    "\n",
    "    fbankku = np.zeros((nfiltku, int(np.floor(NFFTku / 2 + 1))))\n",
    "    for m in range(1, nfiltku + 1):\n",
    "        f_m_minus = int(bin[m - 1]) # left\n",
    "        f_m = int(bin[m]) # center\n",
    "        f_m_plus = int(bin[m + 1]) # right\n",
    "        for k in range(f_m_minus, f_m):\n",
    "            fbankku[m - 1, k] = (k - bin[m - 1]) / (bin[m] - bin[m - 1])\n",
    "        for k in range(f_m, f_m_plus):\n",
    "            fbankku[m - 1, k] = (bin[m + 1] - k) / (bin[m + 1] - bin[m])\n",
    "    filter_banksku = np.dot(pow_framesku, fbankku.T)\n",
    "    filter_banksku = np.where(filter_banksku == 0, np.finfo(float).eps, filter_banksku)\n",
    "    filter_banksku = 20 * np.log10(filter_banksku) # dB\n",
    "\n",
    "    num_cepsku = 13\n",
    "\n",
    "    from scipy.fftpack import dct\n",
    "    # Keep 2-14\n",
    "    mfccku = dct(filter_banksku, type=2, axis=1, norm='ortho')[:, 1 : (num_cepsku + 1)]\n",
    "    mfccku -= (np.mean(mfccku, axis=0) + 1e-8)\n",
    " \n",
    "    return mfccku"
   ]
  },
  {
   "cell_type": "code",
   "execution_count": 60,
   "metadata": {},
   "outputs": [
    {
     "name": "stdout",
     "output_type": "stream",
     "text": [
      "Memproses data: faruq\n",
      "Memproses data: putra\n",
      "Memproses data: rya\n",
      "Memproses data: nurul\n",
      "Memproses data: ismail\n"
     ]
    }
   ],
   "source": [
    "# 2. Plot semua data\n",
    "#anggota = [\"faruq\",\"ismail\",\"nurul\",\"putra\",\"rya\"]\n",
    "anggota = [\"faruq\",\"putra\",\"rya\",\"nurul\",\"ismail\"]\n",
    "anggota_code = [1,2,3,4,5]\n",
    "mfccAnggota = []\n",
    "mfccAnggotaUji = []\n",
    "\n",
    "def ambilMfcc(x):\n",
    "    mfcc_row = []\n",
    "    for k in range(len(x[0])):\n",
    "        sumCol = 0\n",
    "        for l in range(len(x)):\n",
    "            #print(l,k)\n",
    "            sumCol += x[l][k]\n",
    "        mfcc_row.append((sumCol/(len(mfcc[k])+1)))\n",
    "    return mfcc_row\n",
    "\n",
    "for i in range(len(anggota)):\n",
    "    nama = anggota[i]\n",
    "    print(\"Memproses data:\",nama)\n",
    "    for j in range(0,6):\n",
    "        mfcc = getMFCC(\"./Dataset-processed/\" + nama + \"/\"+nama + \"_\" + str(j+1) + \".wav\")\n",
    "    for k in range(6,30):\n",
    "        mfccUji = getMFCC(\"./Dataset-processed/\" + nama + \"/\"+nama + \"_\" + str(k+1) + \".wav\")\n",
    "    \n",
    "        mfccAnggota.append(ambilMfcc(mfcc))\n",
    "        mfccAnggotaUji.append(ambilMfcc(mfccUji))"
   ]
  },
  {
   "cell_type": "code",
   "execution_count": 88,
   "metadata": {},
   "outputs": [],
   "source": [
    "# 3. pengambilan dataset\n",
    "environment.reproducible()\n",
    "dataLatih = []\n",
    "labelLatih = []\n",
    "dataUji = []\n",
    "labelUji = []\n",
    "\n",
    "for i in range(len(mfccAnggota)):\n",
    "    #for j in range(len(mfccAnggota[0])):\n",
    "    dataLatih.append(mfccAnggota[i])\n",
    "        #labelLatih.append(anggota_code[i])\n",
    "\n",
    "for i in range(len(mfccAnggotaUji)):\n",
    "    #for j in range(len(mfccAnggotaUji[0])):\n",
    "    dataUji.append(mfccAnggotaUji[i])\n",
    "        #labelUji.append(anggota_code[i])\n"
   ]
  },
  {
   "cell_type": "code",
   "execution_count": 93,
   "metadata": {},
   "outputs": [],
   "source": [
    "for i in range(24):\n",
    "    labelLatih.append(4)"
   ]
  },
  {
   "cell_type": "code",
   "execution_count": 83,
   "metadata": {},
   "outputs": [
    {
     "name": "stdout",
     "output_type": "stream",
     "text": [
      "120\n"
     ]
    }
   ],
   "source": [
    "print(len(labelLatih))"
   ]
  },
  {
   "cell_type": "code",
   "execution_count": 68,
   "metadata": {},
   "outputs": [
    {
     "name": "stdout",
     "output_type": "stream",
     "text": [
      "120\n",
      "120\n",
      "13\n"
     ]
    }
   ],
   "source": [
    "print(len(dataLatih))\n",
    "print(len(dataUji))\n",
    "#print(dataLatih == dataUji)\n",
    "print(len(mfccAnggota[0]))\n",
    "#print(labelLatih)"
   ]
  },
  {
   "cell_type": "code",
   "execution_count": 94,
   "metadata": {
    "inputHidden": false,
    "outputHidden": false
   },
   "outputs": [],
   "source": [
    "#traning data\n",
    "data_train = np.vstack([dataLatih[0:18],dataLatih[24:43],dataLatih[48:67],dataLatih[72:91],dataLatih[96:115]])\n",
    "target_train = np.hstack([labelLatih[0:18],labelLatih[24:43],labelLatih[48:67],labelLatih[72:91],labelLatih[96:115]])\n",
    "data_test = np.vstack([dataLatih[19:23],dataLatih[44:47],dataLatih[68:71],dataLatih[72:91],dataLatih[116:119]])\n",
    "target_test = np.hstack([labelLatih[19:23],labelLatih[44:47],labelLatih[68:71],labelLatih[72:91],labelLatih[116:119]])"
   ]
  },
  {
   "cell_type": "code",
   "execution_count": 95,
   "metadata": {},
   "outputs": [
    {
     "name": "stdout",
     "output_type": "stream",
     "text": [
      "\n",
      "Main information\n",
      "\n",
      "[ALGORITHM] LVQ3\n",
      "\r\n",
      "[OPTION] verbose = True\n",
      "[OPTION] epoch_end_signal = None\n",
      "[OPTION] show_epoch = 20\n",
      "[OPTION] shuffle_data = False\n",
      "[OPTION] train_end_signal = None\n",
      "[OPTION] minstep = 1e-05\n",
      "[OPTION] n_classes = 5\n",
      "[OPTION] n_inputs = 13\n",
      "[OPTION] n_subclasses = None\n",
      "[OPTION] n_updates_to_stepdrop = 1500\n",
      "[OPTION] prototypes_per_class = None\n",
      "[OPTION] weight = None\n",
      "[OPTION] epsilon = 0.1\n",
      "[OPTION] slowdown_rate = 0.4\n",
      "[OPTION] step = 1e-08\n",
      "\r\n"
     ]
    }
   ],
   "source": [
    "lvqnet = algorithms.LVQ3(n_inputs=13,n_classes=5,verbose=True,show_epoch=20,step=0.00000001,n_updates_to_stepdrop=15*100)"
   ]
  },
  {
   "cell_type": "code",
   "execution_count": 96,
   "metadata": {},
   "outputs": [
    {
     "name": "stdout",
     "output_type": "stream",
     "text": [
      "\n",
      "Start training\n",
      "\n",
      "[TRAINING DATA] shapes: (94, 13)\n",
      "[TRAINING] Total epochs: 300\n",
      "\n",
      "---------------------------------------------------------\n",
      "|    Epoch    |  Train err  |  Valid err  |    Time     |\n",
      "---------------------------------------------------------\n",
      "|           1 |           0 |           - |       59 ms |\n",
      "|          20 |           0 |           - |       32 ms |\n",
      "|          40 |           0 |           - |       32 ms |\n",
      "|          60 |           0 |           - |       31 ms |\n",
      "|          80 |           0 |           - |       30 ms |\n",
      "|         100 |           0 |           - |       30 ms |\n",
      "|         120 |           0 |           - |       30 ms |\n",
      "|         140 |           0 |           - |       31 ms |\n",
      "|         160 |           0 |           - |       30 ms |\n",
      "|         180 |           0 |           - |       32 ms |\n",
      "|         200 |           0 |           - |       30 ms |\n",
      "|         220 |           0 |           - |       31 ms |\n",
      "|         240 |           0 |           - |       31 ms |\n",
      "|         260 |           0 |           - |       31 ms |\n",
      "|         280 |           0 |           - |       32 ms |\n",
      "|         300 |           0 |           - |       48 ms |\n",
      "---------------------------------------------------------\n",
      "\n"
     ]
    }
   ],
   "source": [
    "lvqnet.train(data_train,target_train,epochs=300)"
   ]
  },
  {
   "cell_type": "code",
   "execution_count": 97,
   "metadata": {},
   "outputs": [],
   "source": [
    "prediksi = lvqnet.predict(data_test)"
   ]
  },
  {
   "cell_type": "code",
   "execution_count": 98,
   "metadata": {},
   "outputs": [],
   "source": [
    "y_pred = pd.Series(prediksi, name='Prediksi')\n",
    "y_actu = pd.Series(target_test, name='Aktual')\n",
    "df_confusion = pd.crosstab(y_actu, y_pred)"
   ]
  },
  {
   "cell_type": "code",
   "execution_count": 99,
   "metadata": {},
   "outputs": [
    {
     "data": {
      "text/html": [
       "<div>\n",
       "<style scoped>\n",
       "    .dataframe tbody tr th:only-of-type {\n",
       "        vertical-align: middle;\n",
       "    }\n",
       "\n",
       "    .dataframe tbody tr th {\n",
       "        vertical-align: top;\n",
       "    }\n",
       "\n",
       "    .dataframe thead th {\n",
       "        text-align: right;\n",
       "    }\n",
       "</style>\n",
       "<table border=\"1\" class=\"dataframe\">\n",
       "  <thead>\n",
       "    <tr style=\"text-align: right;\">\n",
       "      <th>Prediksi</th>\n",
       "      <th>0</th>\n",
       "      <th>1</th>\n",
       "      <th>2</th>\n",
       "      <th>3</th>\n",
       "      <th>4</th>\n",
       "    </tr>\n",
       "    <tr>\n",
       "      <th>Aktual</th>\n",
       "      <th></th>\n",
       "      <th></th>\n",
       "      <th></th>\n",
       "      <th></th>\n",
       "      <th></th>\n",
       "    </tr>\n",
       "  </thead>\n",
       "  <tbody>\n",
       "    <tr>\n",
       "      <th>0</th>\n",
       "      <td>4</td>\n",
       "      <td>0</td>\n",
       "      <td>0</td>\n",
       "      <td>0</td>\n",
       "      <td>0</td>\n",
       "    </tr>\n",
       "    <tr>\n",
       "      <th>1</th>\n",
       "      <td>0</td>\n",
       "      <td>3</td>\n",
       "      <td>0</td>\n",
       "      <td>0</td>\n",
       "      <td>0</td>\n",
       "    </tr>\n",
       "    <tr>\n",
       "      <th>2</th>\n",
       "      <td>0</td>\n",
       "      <td>0</td>\n",
       "      <td>3</td>\n",
       "      <td>0</td>\n",
       "      <td>0</td>\n",
       "    </tr>\n",
       "    <tr>\n",
       "      <th>3</th>\n",
       "      <td>0</td>\n",
       "      <td>0</td>\n",
       "      <td>0</td>\n",
       "      <td>19</td>\n",
       "      <td>0</td>\n",
       "    </tr>\n",
       "    <tr>\n",
       "      <th>4</th>\n",
       "      <td>0</td>\n",
       "      <td>0</td>\n",
       "      <td>0</td>\n",
       "      <td>0</td>\n",
       "      <td>3</td>\n",
       "    </tr>\n",
       "  </tbody>\n",
       "</table>\n",
       "</div>"
      ],
      "text/plain": [
       "Prediksi  0  1  2   3  4\n",
       "Aktual                  \n",
       "0         4  0  0   0  0\n",
       "1         0  3  0   0  0\n",
       "2         0  0  3   0  0\n",
       "3         0  0  0  19  0\n",
       "4         0  0  0   0  3"
      ]
     },
     "execution_count": 99,
     "metadata": {},
     "output_type": "execute_result"
    }
   ],
   "source": [
    "df_confusion"
   ]
  },
  {
   "cell_type": "code",
   "execution_count": 101,
   "metadata": {},
   "outputs": [
    {
     "name": "stdout",
     "output_type": "stream",
     "text": [
      "Confusion Matrix:\n",
      "\n",
      "Predicted  0  1  2   3  4  __all__\n",
      "Actual                            \n",
      "0          4  0  0   0  0        4\n",
      "1          0  3  0   0  0        3\n",
      "2          0  0  3   0  0        3\n",
      "3          0  0  0  19  0       19\n",
      "4          0  0  0   0  3        3\n",
      "__all__    4  3  3  19  3       32\n",
      "\n",
      "\n",
      "Overall Statistics:\n",
      "\n",
      "Accuracy: 1.0\n",
      "95% CI: (0.89111883932064728, nan)\n",
      "No Information Rate: ToDo\n",
      "P-Value [Acc > NIR]: 5.69266889176e-08\n",
      "Kappa: 1.0\n",
      "Mcnemar's Test P-Value: ToDo\n",
      "\n",
      "\n",
      "Class Statistics:\n",
      "\n",
      "Classes                                    0        1        2        3  \\\n",
      "Population                                32       32       32       32   \n",
      "P: Condition positive                      4        3        3       19   \n",
      "N: Condition negative                     28       29       29       13   \n",
      "Test outcome positive                      4        3        3       19   \n",
      "Test outcome negative                     28       29       29       13   \n",
      "TP: True Positive                          4        3        3       19   \n",
      "TN: True Negative                         28       29       29       13   \n",
      "FP: False Positive                         0        0        0        0   \n",
      "FN: False Negative                         0        0        0        0   \n",
      "TPR: (Sensitivity, hit rate, recall)       1        1        1        1   \n",
      "TNR=SPC: (Specificity)                     1        1        1        1   \n",
      "PPV: Pos Pred Value (Precision)            1        1        1        1   \n",
      "NPV: Neg Pred Value                        1        1        1        1   \n",
      "FPR: False-out                             0        0        0        0   \n",
      "FDR: False Discovery Rate                  0        0        0        0   \n",
      "FNR: Miss Rate                             0        0        0        0   \n",
      "ACC: Accuracy                              1        1        1        1   \n",
      "F1 score                                   1        1        1        1   \n",
      "MCC: Matthews correlation coefficient      1        1        1        1   \n",
      "Informedness                               1        1        1        1   \n",
      "Markedness                                 1        1        1        1   \n",
      "Prevalence                             0.125  0.09375  0.09375  0.59375   \n",
      "LR+: Positive likelihood ratio           inf      inf      inf      inf   \n",
      "LR-: Negative likelihood ratio             0        0        0        0   \n",
      "DOR: Diagnostic odds ratio               inf      inf      inf      inf   \n",
      "FOR: False omission rate                   0        0        0        0   \n",
      "\n",
      "Classes                                      4  \n",
      "Population                                  32  \n",
      "P: Condition positive                        3  \n",
      "N: Condition negative                       29  \n",
      "Test outcome positive                        3  \n",
      "Test outcome negative                       29  \n",
      "TP: True Positive                            3  \n",
      "TN: True Negative                           29  \n",
      "FP: False Positive                           0  \n",
      "FN: False Negative                           0  \n",
      "TPR: (Sensitivity, hit rate, recall)         1  \n",
      "TNR=SPC: (Specificity)                       1  \n",
      "PPV: Pos Pred Value (Precision)              1  \n",
      "NPV: Neg Pred Value                          1  \n",
      "FPR: False-out                               0  \n",
      "FDR: False Discovery Rate                    0  \n",
      "FNR: Miss Rate                               0  \n",
      "ACC: Accuracy                                1  \n",
      "F1 score                                     1  \n",
      "MCC: Matthews correlation coefficient        1  \n",
      "Informedness                                 1  \n",
      "Markedness                                   1  \n",
      "Prevalence                             0.09375  \n",
      "LR+: Positive likelihood ratio             inf  \n",
      "LR-: Negative likelihood ratio               0  \n",
      "DOR: Diagnostic odds ratio                 inf  \n",
      "FOR: False omission rate                     0  \n"
     ]
    }
   ],
   "source": [
    "from pandas_ml import ConfusionMatrix\n",
    "cm = ConfusionMatrix(target_test, prediksi)\n",
    "cm.print_stats()"
   ]
  },
  {
   "cell_type": "code",
   "execution_count": null,
   "metadata": {},
   "outputs": [],
   "source": []
  }
 ],
 "metadata": {
  "kernel_info": {
   "name": "python3"
  },
  "kernelspec": {
   "display_name": "Python 3",
   "language": "python",
   "name": "python3"
  },
  "language_info": {
   "codemirror_mode": {
    "name": "ipython",
    "version": 3
   },
   "file_extension": ".py",
   "mimetype": "text/x-python",
   "name": "python",
   "nbconvert_exporter": "python",
   "pygments_lexer": "ipython3",
   "version": "3.6.2"
  },
  "nteract": {
   "version": "0.8.4"
  }
 },
 "nbformat": 4,
 "nbformat_minor": 2
}
