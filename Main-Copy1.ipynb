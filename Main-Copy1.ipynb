{
  "cells": [
    {
      "cell_type": "markdown",
      "source": [
        "## Pemrosesan Suara dan Bahasa Alami\n",
        "### Tugas Kelompok Praktikum Pertemuan 6\n",
        "### Kelompok 1\n",
        "\n\n",
        "|Nama|NIM|\n",
        "|-|-|\n",
        "|Nike Putra Jaya Hulu | G64130097|\n",
        "|Nurul Andayani | G64164001|\n",
        "|Rya Meyvriska| G64164008|\n",
        "|Faruq Sandi|G64164013|\n",
        "|Ismail Adima|G64164053|"
      ],
      "metadata": {}
    },
    {
      "cell_type": "code",
      "source": [
        "# 0. import library\n",
        "import numpy as np\n",
        "import copy\n",
        "from scipy.io import wavfile\n",
        "from matplotlib import pyplot as plt\n",
        "import pandas as pd\n",
        "from sklearn import datasets\n",
        "from neupy import algorithms, environment"
      ],
      "outputs": [],
      "execution_count": 16,
      "metadata": {}
    },
    {
      "cell_type": "code",
      "source": [
        "# 1. membuat fungsi mfcc\n",
        "def Hamming_Window(n):\n",
        "    w = []\n",
        "    for i in range(0,n):\n",
        "        temp = 0.54 - 0.46 * np.cos((2*np.pi*i)/(n-1))\n",
        "        w.append(temp)\n",
        "    return w\n",
        "\n",
        "# mengambil mfcc dari suara 0-1.5 second\n",
        "def getMFCC(fileDirectory):\n",
        "    #get sample rate,signal,pre emphasis, dan emphasized\n",
        "    sample_rateku, signalku = wavfile.read(fileDirectory)\n",
        "    signalku = signalku[0:int(1.5 * sample_rateku)]\n",
        "    timesku = np.arange(len(signalku))/float(sample_rateku)\n",
        "\n",
        "    pre_emphasisku = 0.97\n",
        "    emphasized_signalku = np.append(signalku[0], signalku[1:]- pre_emphasisku * signalku[:-1])\n",
        "    \n",
        "    # Ukuran frame adalah 25 milidetik,\n",
        "    # dan overlap 15 milidetik (dalam ukuran waktu/detik)\n",
        "    frame_sizeku = 0.025\n",
        "    frame_strideku = 0.01\n",
        "\n",
        "    # Konversi dari detik ke sample\n",
        "    frame_lengthku = int(round(frame_sizeku * sample_rateku))\n",
        "    frame_stepku = int(round(frame_strideku * sample_rateku))\n",
        "\n",
        "    # Ukuran sinyal dalam Sample\n",
        "    signal_lengthku = len(emphasized_signalku)\n",
        "\n",
        "    # Pastikan setidaknya ada 1 frame\n",
        "    num_framesku = int(np.ceil(float(np.abs(signal_lengthku - frame_lengthku)) / frame_stepku))\n",
        "\n",
        "    pad_signal_lengthku = num_framesku * frame_stepku + frame_lengthku\n",
        "    zku = np.zeros((pad_signal_lengthku - signal_lengthku))\n",
        "    pad_signalku = np.append(emphasized_signalku, zku)\n",
        "\n",
        "    indicesku = np.tile(np.arange(0, frame_lengthku), (num_framesku, 1))\n",
        "    + np.tile(np.arange(0, num_framesku * frame_stepku, frame_stepku)\n",
        "    , (frame_lengthku, 1)).T\n",
        "    framesku = pad_signalku[indicesku.astype(np.int32, copy=False)]\n",
        "\n",
        "    # windowing\n",
        "    framesHWku = copy.copy(framesku)\n",
        "    framesHWku *= np.hamming(frame_lengthku)\n",
        "\n",
        "    # Magnitude of the FFT\n",
        "    NFFTku = 512\n",
        "    mag_framesku = np.absolute(np.fft.rfft(framesku, NFFTku))\n",
        "\n",
        "    # Power Spectrum\n",
        "    pow_framesku = ((1.0 / NFFTku) * ((mag_framesku) ** 2))\n",
        "\n",
        "    # Misalkan yang diambil adalah:\n",
        "    nfiltku = 40\n",
        "\n",
        "    low_freq_melku = 0\n",
        "    high_freq_melku = (2595 * np.log10(1 + (sample_rateku / 2) / 700)) # Convert Hz to Mel\n",
        "    mel_pointsku = np.linspace(low_freq_melku, high_freq_melku, nfiltku + 2)\n",
        "    hz_pointsku = (700 * (10**(mel_pointsku / 2595) - 1)) # Convert Mel to Hz\n",
        "    bin = np.floor((NFFTku + 1) * hz_pointsku / sample_rateku)\n",
        "\n\n",
        "    fbankku = np.zeros((nfiltku, int(np.floor(NFFTku / 2 + 1))))\n",
        "    for m in range(1, nfiltku + 1):\n",
        "        f_m_minus = int(bin[m - 1]) # left\n",
        "        f_m = int(bin[m]) # center\n",
        "        f_m_plus = int(bin[m + 1]) # right\n",
        "        for k in range(f_m_minus, f_m):\n",
        "            fbankku[m - 1, k] = (k - bin[m - 1]) / (bin[m] - bin[m - 1])\n",
        "        for k in range(f_m, f_m_plus):\n",
        "            fbankku[m - 1, k] = (bin[m + 1] - k) / (bin[m + 1] - bin[m])\n",
        "    filter_banksku = np.dot(pow_framesku, fbankku.T)\n",
        "    filter_banksku = np.where(filter_banksku == 0, np.finfo(float).eps, filter_banksku)\n",
        "    filter_banksku = 20 * np.log10(filter_banksku) # dB\n",
        "\n",
        "    num_cepsku = 13\n",
        "\n",
        "    from scipy.fftpack import dct\n",
        "    # Keep 2-14\n",
        "    mfccku = dct(filter_banksku, type=2, axis=1, norm='ortho')[:, 1 : (num_cepsku + 1)]\n",
        "    mfccku -= (np.mean(mfccku, axis=0) + 1e-8)\n",
        " \n",
        "    return mfccku"
      ],
      "outputs": [],
      "execution_count": 17,
      "metadata": {}
    },
    {
      "cell_type": "code",
      "source": [
        "# 2. Plot semua data\n",
        "#anggota = [\"faruq\",\"ismail\",\"nurul\",\"putra\",\"rya\"]\n",
        "anggota = [\"faruq\",\"putra\",\"rya\",\"nurul\",\"ismail\"]\n",
        "anggota_code = [1,2,3,4,5]\n",
        "mfccAnggota = []\n",
        "\n",
        "def ambilMfcc(x):\n",
        "    mfcc_row = []\n",
        "    for k in range(len(x[0])):\n",
        "        sumCol = 0\n",
        "        for l in range(len(x)):\n",
        "            #print(l,k)\n",
        "            sumCol += x[l][k]\n",
        "        mfcc_row.append((sumCol/(len(mfcc[k])+1)))\n",
        "    return mfcc_row\n",
        "\n",
        "for i in range(len(anggota)):\n",
        "    nama = anggota[i]\n",
        "    print(\"Memproses data:\",nama)\n",
        "    for j in range(0,30):\n",
        "        mfcc = getMFCC(\"./Dataset/\" + nama + \"/\"+nama + \"_\" + str(j+1) + \".wav\")\n",
        "        mfccAnggota.append(ambilMfcc(mfcc))"
      ],
      "outputs": [
        {
          "output_type": "stream",
          "name": "stdout",
          "text": [
            "Memproses data: faruq\n",
            "Memproses data: putra\n",
            "Memproses data: rya\n",
            "Memproses data: nurul\n",
            "Memproses data: ismail\n"
          ]
        }
      ],
      "execution_count": 18,
      "metadata": {}
    },
    {
      "cell_type": "code",
      "source": [
        "print(len(mfccAnggota[0]))"
      ],
      "outputs": [
        {
          "output_type": "stream",
          "name": "stdout",
          "text": [
            "13\n"
          ]
        }
      ],
      "execution_count": 19,
      "metadata": {
        "collapsed": false,
        "outputHidden": false,
        "inputHidden": false
      }
    },
    {
      "cell_type": "code",
      "source": [
        "# 3. pengambilan dataset\n",
        "environment.reproducible()\n",
        "dataset = mfccAnggota\n",
        "labelset = []\n",
        "\n\n",
        "for i in range(len(anggota)):\n",
        "    for j in range(30):\n",
        "        labelset.append(j)\n"
      ],
      "outputs": [],
      "execution_count": 20,
      "metadata": {}
    },
    {
      "cell_type": "code",
      "source": [],
      "outputs": [],
      "execution_count": 21,
      "metadata": {}
    },
    {
      "cell_type": "code",
      "source": [
        "#traning data\n",
        "#data_train = np.vstack([dataset[0:18],dataset[24:43],dataset[48:67],dataset[72:91],dataset[96:115]])\n",
        "#target_train = np.hstack([labelset[0:18],labelset[24:43],labelset[48:67],labelset[72:91],labelset[96:115]])\n",
        "#data_test = np.vstack([dataset[19:23],dataset[44:47],dataset[68:71],dataset[72:91],dataset[116:119]])\n",
        "#target_test = np.hstack([labelset[19:23],labelset[44:47],labelset[68:71],labelset[72:91],labelset[116:119]])\n",
        "data_test=[]\n",
        "data_train=[]\n",
        "label_test=[]\n",
        "label_train=[]\n",
        "\n",
        "for i in range (len(anggota)):\n",
        "    for j in range(30):\n",
        "        if(j<6):\n",
        "            data_test.append(dataset[j])\n",
        "            label_test.append(labelset[i])\n",
        "        else:\n",
        "            data_train.append(dataset[j])\n",
        "            label_train.append(labelset[i])\n"
      ],
      "outputs": [],
      "execution_count": 21,
      "metadata": {
        "inputHidden": false,
        "outputHidden": false
      }
    },
    {
      "cell_type": "code",
      "source": [
        "print(len(data_test))\n",
        "print(len(data_train))\n",
        "print(label_train)\n",
        "print(label_test)"
      ],
      "outputs": [
        {
          "output_type": "stream",
          "name": "stdout",
          "text": [
            "30\n",
            "120\n",
            "[0, 0, 0, 0, 0, 0, 0, 0, 0, 0, 0, 0, 0, 0, 0, 0, 0, 0, 0, 0, 0, 0, 0, 0, 1, 1, 1, 1, 1, 1, 1, 1, 1, 1, 1, 1, 1, 1, 1, 1, 1, 1, 1, 1, 1, 1, 1, 1, 2, 2, 2, 2, 2, 2, 2, 2, 2, 2, 2, 2, 2, 2, 2, 2, 2, 2, 2, 2, 2, 2, 2, 2, 3, 3, 3, 3, 3, 3, 3, 3, 3, 3, 3, 3, 3, 3, 3, 3, 3, 3, 3, 3, 3, 3, 3, 3, 4, 4, 4, 4, 4, 4, 4, 4, 4, 4, 4, 4, 4, 4, 4, 4, 4, 4, 4, 4, 4, 4, 4, 4]\n",
            "[0, 0, 0, 0, 0, 0, 1, 1, 1, 1, 1, 1, 2, 2, 2, 2, 2, 2, 3, 3, 3, 3, 3, 3, 4, 4, 4, 4, 4, 4]\n"
          ]
        }
      ],
      "execution_count": 22,
      "metadata": {
        "collapsed": false,
        "outputHidden": false,
        "inputHidden": false
      }
    },
    {
      "cell_type": "code",
      "source": [
        "lvqnet = algorithms.LVQ3(n_inputs=13,n_classes=5,verbose=True,show_epoch=20,step=0.00000001,n_updates_to_stepdrop=15*100)"
      ],
      "outputs": [
        {
          "output_type": "stream",
          "name": "stdout",
          "text": [
            "\n",
            "Main information\n",
            "\n",
            "[ALGORITHM] LVQ3\n",
            "\r\n",
            "[OPTION] verbose = True\n",
            "[OPTION] epoch_end_signal = None\n",
            "[OPTION] show_epoch = 20\n",
            "[OPTION] shuffle_data = False\n",
            "[OPTION] train_end_signal = None\n",
            "[OPTION] minstep = 1e-05\n",
            "[OPTION] n_classes = 5\n",
            "[OPTION] n_inputs = 13\n",
            "[OPTION] n_subclasses = None\n",
            "[OPTION] n_updates_to_stepdrop = 1500\n",
            "[OPTION] prototypes_per_class = None\n",
            "[OPTION] weight = None\n",
            "[OPTION] epsilon = 0.1\n",
            "[OPTION] slowdown_rate = 0.4\n",
            "[OPTION] step = 1e-08\n",
            "\r\n"
          ]
        }
      ],
      "execution_count": 23,
      "metadata": {}
    },
    {
      "cell_type": "code",
      "source": [
        "lvqnet.train(data_train,label_train,epochs=300)"
      ],
      "outputs": [
        {
          "output_type": "stream",
          "name": "stdout",
          "text": [
            "\n",
            "Start training\n",
            "\n",
            "[TRAINING DATA] shapes: (120, 13)\n",
            "[TRAINING] Total epochs: 300\n",
            "\n",
            "---------------------------------------------------------\n",
            "|    Epoch    |  Train err  |  Valid err  |    Time     |\n",
            "---------------------------------------------------------\n",
            "|           1 |         0.8 |           - |       53 ms |\n",
            "|          20 |         0.8 |           - |       24 ms |\n",
            "|          40 |         0.8 |           - |       20 ms |\n",
            "|          60 |         0.8 |           - |       13 ms |\n",
            "|          80 |         0.8 |           - |       12 ms |\n",
            "|         100 |         0.8 |           - |       16 ms |\n",
            "|         120 |     0.80833 |           - |       20 ms |\n",
            "|         140 |     0.80833 |           - |       15 ms |\n",
            "|         160 |     0.79167 |           - |       15 ms |\n",
            "|         180 |     0.79167 |           - |       18 ms |\n",
            "|         200 |     0.79167 |           - |       18 ms |\n",
            "|         220 |         0.8 |           - |       21 ms |\n",
            "|         240 |     0.78333 |           - |       18 ms |\n",
            "|         260 |     0.79167 |           - |       17 ms |\n",
            "|         280 |     0.79167 |           - |       16 ms |\n",
            "|         300 |     0.78333 |           - |       16 ms |\n",
            "---------------------------------------------------------\n",
            "\n"
          ]
        }
      ],
      "execution_count": 24,
      "metadata": {}
    },
    {
      "cell_type": "code",
      "source": [
        "prediksi = lvqnet.predict(data_test)"
      ],
      "outputs": [],
      "execution_count": 25,
      "metadata": {}
    },
    {
      "cell_type": "code",
      "source": [
        "print(prediksi)"
      ],
      "outputs": [
        {
          "output_type": "stream",
          "name": "stdout",
          "text": [
            "[4 4 3 2 1 1 4 4 3 2 1 1 4 4 3 2 1 1 4 4 3 2 1 1 4 4 3 2 1 1]\n"
          ]
        }
      ],
      "execution_count": 26,
      "metadata": {
        "collapsed": false,
        "outputHidden": false,
        "inputHidden": false
      }
    },
    {
      "cell_type": "code",
      "source": [
        "y_pred = pd.Series(prediksi, name='Prediksi')\n",
        "y_actu = pd.Series(label_test, name='Aktual')\n",
        "df_confusion = pd.crosstab(y_actu, y_pred)"
      ],
      "outputs": [],
      "execution_count": 27,
      "metadata": {}
    },
    {
      "cell_type": "code",
      "source": [
        "df_confusion"
      ],
      "outputs": [
        {
          "output_type": "execute_result",
          "execution_count": 28,
          "data": {
            "text/plain": [
              "Prediksi  1  2  3  4\n",
              "Aktual              \n",
              "0         2  1  1  2\n",
              "1         2  1  1  2\n",
              "2         2  1  1  2\n",
              "3         2  1  1  2\n",
              "4         2  1  1  2"
            ],
            "text/html": [
              "<div>\n",
              "<style>\n",
              "    .dataframe thead tr:only-child th {\n",
              "        text-align: right;\n",
              "    }\n",
              "\n",
              "    .dataframe thead th {\n",
              "        text-align: left;\n",
              "    }\n",
              "\n",
              "    .dataframe tbody tr th {\n",
              "        vertical-align: top;\n",
              "    }\n",
              "</style>\n",
              "<table border=\"1\" class=\"dataframe\">\n",
              "  <thead>\n",
              "    <tr style=\"text-align: right;\">\n",
              "      <th>Prediksi</th>\n",
              "      <th>1</th>\n",
              "      <th>2</th>\n",
              "      <th>3</th>\n",
              "      <th>4</th>\n",
              "    </tr>\n",
              "    <tr>\n",
              "      <th>Aktual</th>\n",
              "      <th></th>\n",
              "      <th></th>\n",
              "      <th></th>\n",
              "      <th></th>\n",
              "    </tr>\n",
              "  </thead>\n",
              "  <tbody>\n",
              "    <tr>\n",
              "      <th>0</th>\n",
              "      <td>2</td>\n",
              "      <td>1</td>\n",
              "      <td>1</td>\n",
              "      <td>2</td>\n",
              "    </tr>\n",
              "    <tr>\n",
              "      <th>1</th>\n",
              "      <td>2</td>\n",
              "      <td>1</td>\n",
              "      <td>1</td>\n",
              "      <td>2</td>\n",
              "    </tr>\n",
              "    <tr>\n",
              "      <th>2</th>\n",
              "      <td>2</td>\n",
              "      <td>1</td>\n",
              "      <td>1</td>\n",
              "      <td>2</td>\n",
              "    </tr>\n",
              "    <tr>\n",
              "      <th>3</th>\n",
              "      <td>2</td>\n",
              "      <td>1</td>\n",
              "      <td>1</td>\n",
              "      <td>2</td>\n",
              "    </tr>\n",
              "    <tr>\n",
              "      <th>4</th>\n",
              "      <td>2</td>\n",
              "      <td>1</td>\n",
              "      <td>1</td>\n",
              "      <td>2</td>\n",
              "    </tr>\n",
              "  </tbody>\n",
              "</table>\n",
              "</div>"
            ]
          },
          "metadata": {}
        }
      ],
      "execution_count": 28,
      "metadata": {}
    },
    {
      "cell_type": "code",
      "source": [
        "from pandas_ml import ConfusionMatrix\n",
        "cm = ConfusionMatrix(label_test, prediksi)\n",
        "cm.print_stats()"
      ],
      "outputs": [
        {
          "output_type": "stream",
          "name": "stdout",
          "text": [
            "Confusion Matrix:\n",
            "\n",
            "Predicted  0   1  2  3   4  __all__\n",
            "Actual                             \n",
            "0          0   2  1  1   2        6\n",
            "1          0   2  1  1   2        6\n",
            "2          0   2  1  1   2        6\n",
            "3          0   2  1  1   2        6\n",
            "4          0   2  1  1   2        6\n",
            "__all__    0  10  5  5  10       30\n",
            "\n\n",
            "Overall Statistics:\n",
            "\n",
            "Accuracy: 0.2\n",
            "95% CI: (0.077135512001065609, 0.3856665109966072)\n",
            "No Information Rate: ToDo\n",
            "P-Value [Acc > NIR]: 0.964545828184\n",
            "Kappa: 0.0\n",
            "Mcnemar's Test P-Value: ToDo\n",
            "\n\n",
            "Class Statistics:\n",
            "\n",
            "Classes                                  0         1         2         3  \\\n",
            "Population                              30        30        30        30   \n",
            "P: Condition positive                    6         6         6         6   \n",
            "N: Condition negative                   24        24        24        24   \n",
            "Test outcome positive                    0        10         5         5   \n",
            "Test outcome negative                   30        20        25        25   \n",
            "TP: True Positive                        0         2         1         1   \n",
            "TN: True Negative                       24        16        20        20   \n",
            "FP: False Positive                       0         8         4         4   \n",
            "FN: False Negative                       6         4         5         5   \n",
            "TPR: (Sensitivity, hit rate, recall)     0  0.333333  0.166667  0.166667   \n",
            "TNR=SPC: (Specificity)                   1  0.666667  0.833333  0.833333   \n",
            "PPV: Pos Pred Value (Precision)        NaN       0.2       0.2       0.2   \n",
            "NPV: Neg Pred Value                    0.8       0.8       0.8       0.8   \n",
            "FPR: False-out                           0  0.333333  0.166667  0.166667   \n",
            "FDR: False Discovery Rate              NaN       0.8       0.8       0.8   \n",
            "FNR: Miss Rate                           1  0.666667  0.833333  0.833333   \n",
            "ACC: Accuracy                          0.8       0.6       0.7       0.7   \n",
            "F1 score                                 0      0.25  0.181818  0.181818   \n",
            "MCC: Matthews correlation coefficient  NaN         0         0         0   \n",
            "Informedness                             0         0         0         0   \n",
            "Markedness                             NaN         0         0         0   \n",
            "Prevalence                             0.2       0.2       0.2       0.2   \n",
            "LR+: Positive likelihood ratio         NaN         1         1         1   \n",
            "LR-: Negative likelihood ratio           1         1         1         1   \n",
            "DOR: Diagnostic odds ratio             NaN         1         1         1   \n",
            "FOR: False omission rate               0.2       0.2       0.2       0.2   \n",
            "\n",
            "Classes                                       4  \n",
            "Population                                   30  \n",
            "P: Condition positive                         6  \n",
            "N: Condition negative                        24  \n",
            "Test outcome positive                        10  \n",
            "Test outcome negative                        20  \n",
            "TP: True Positive                             2  \n",
            "TN: True Negative                            16  \n",
            "FP: False Positive                            8  \n",
            "FN: False Negative                            4  \n",
            "TPR: (Sensitivity, hit rate, recall)   0.333333  \n",
            "TNR=SPC: (Specificity)                 0.666667  \n",
            "PPV: Pos Pred Value (Precision)             0.2  \n",
            "NPV: Neg Pred Value                         0.8  \n",
            "FPR: False-out                         0.333333  \n",
            "FDR: False Discovery Rate                   0.8  \n",
            "FNR: Miss Rate                         0.666667  \n",
            "ACC: Accuracy                               0.6  \n",
            "F1 score                                   0.25  \n",
            "MCC: Matthews correlation coefficient         0  \n",
            "Informedness                                  0  \n",
            "Markedness                                    0  \n",
            "Prevalence                                  0.2  \n",
            "LR+: Positive likelihood ratio                1  \n",
            "LR-: Negative likelihood ratio                1  \n",
            "DOR: Diagnostic odds ratio                    1  \n",
            "FOR: False omission rate                    0.2  \n"
          ]
        }
      ],
      "execution_count": 29,
      "metadata": {}
    },
    {
      "cell_type": "code",
      "source": [],
      "outputs": [],
      "execution_count": 30,
      "metadata": {}
    }
  ],
  "metadata": {
    "kernel_info": {
      "name": "python3"
    },
    "kernelspec": {
      "name": "python3",
      "language": "python",
      "display_name": "Python 3"
    },
    "language_info": {
      "name": "python",
      "version": "3.6.4",
      "mimetype": "text/x-python",
      "codemirror_mode": {
        "name": "ipython",
        "version": 3
      },
      "pygments_lexer": "ipython3",
      "nbconvert_exporter": "python",
      "file_extension": ".py"
    },
    "nteract": {
      "version": "0.8.4"
    }
  },
  "nbformat": 4,
  "nbformat_minor": 2
}