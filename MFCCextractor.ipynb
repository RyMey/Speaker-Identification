{
  "cells": [
    {
      "cell_type": "code",
      "source": [
        "#import fungsi getMFFCC dari MFCCedit.ipynb\n",
        "#ipynb package required\n",
        "from ipynb.fs.full.MFCCedit import getMFCC\n",
        "\n",
        "import os\n",
        "import csv\n",
        "import glob\n",
        "\n",
        "#useless declaration\n",
        "mfccdataset=[[\"filename\",\"person\",\"samplenumber\", \"chep1\", \"chep2\", \"chep3\", \"chep4\", \"chep5\", \"chep6\", \"chep7\", \"chep8\", \"chep9\", \"chep10\", \"chep11\", \"chep12\", \"chep3\"]]\n",
        "\n\n",
        "def mfccloader(filepath):\n",
        "    mfcc=getMFCC(filepath)\n",
        "    filename=os.path.basename(filepath)\n",
        "    chepaverage=[x / len(mfcc[0]) for x in [sum([row[i] for row in mfcc]) for i in range(0,len(mfcc[0]))]]\n",
        "    person, samplenumber=filename.split(\".\", 1)[0].split(\"_\", 2)\n",
        "    writebuffer=[filename, person, samplenumber]\n",
        "    writebuffer.extend(chepaverage)\n",
        "    \n",
        "    csvfile = open('extractedMFCC.csv', 'a')\n",
        "    writer = csv.writer(csvfile, delimiter=',')\n",
        "    writer.writerow(writebuffer)\n",
        "    "
      ],
      "outputs": [],
      "execution_count": 53,
      "metadata": {
        "collapsed": false,
        "outputHidden": false,
        "inputHidden": false
      }
    },
    {
      "cell_type": "code",
      "source": [
        "filelist=glob.glob(\"./Dataset-processed/*/*\")\n",
        "filelist.sort()\n",
        "for filepath in filelist:\n",
        "    mfccloader(filepath)\n",
        "\nprint(filelist)"
      ],
      "outputs": [
        {
          "output_type": "stream",
          "name": "stdout",
          "text": [
            "['./Dataset-processed/Faruq/faruq_1.wav', './Dataset-processed/Faruq/faruq_10.wav', './Dataset-processed/Faruq/faruq_11.wav', './Dataset-processed/Faruq/faruq_12.wav', './Dataset-processed/Faruq/faruq_13.wav', './Dataset-processed/Faruq/faruq_14.wav', './Dataset-processed/Faruq/faruq_15.wav', './Dataset-processed/Faruq/faruq_16.wav', './Dataset-processed/Faruq/faruq_17.wav', './Dataset-processed/Faruq/faruq_18.wav', './Dataset-processed/Faruq/faruq_19.wav', './Dataset-processed/Faruq/faruq_2.wav', './Dataset-processed/Faruq/faruq_20.wav', './Dataset-processed/Faruq/faruq_21.wav', './Dataset-processed/Faruq/faruq_22.wav', './Dataset-processed/Faruq/faruq_23.wav', './Dataset-processed/Faruq/faruq_24.wav', './Dataset-processed/Faruq/faruq_25.wav', './Dataset-processed/Faruq/faruq_26.wav', './Dataset-processed/Faruq/faruq_27.wav', './Dataset-processed/Faruq/faruq_28.wav', './Dataset-processed/Faruq/faruq_29.wav', './Dataset-processed/Faruq/faruq_3.wav', './Dataset-processed/Faruq/faruq_30.wav', './Dataset-processed/Faruq/faruq_4.wav', './Dataset-processed/Faruq/faruq_5.wav', './Dataset-processed/Faruq/faruq_6.wav', './Dataset-processed/Faruq/faruq_7.wav', './Dataset-processed/Faruq/faruq_8.wav', './Dataset-processed/Faruq/faruq_9.wav', './Dataset-processed/Ismail/ismail_1-trimmed-pad.wav', './Dataset-processed/Ismail/ismail_10-trimmed-pad.wav', './Dataset-processed/Ismail/ismail_11-trimmed-pad.wav', './Dataset-processed/Ismail/ismail_12-trimmed-pad.wav', './Dataset-processed/Ismail/ismail_13-trimmed-pad.wav', './Dataset-processed/Ismail/ismail_14-trimmed-pad.wav', './Dataset-processed/Ismail/ismail_15-trimmed-pad.wav', './Dataset-processed/Ismail/ismail_16-trimmed-pad.wav', './Dataset-processed/Ismail/ismail_17-trimmed-pad.wav', './Dataset-processed/Ismail/ismail_18-trimmed-pad.wav', './Dataset-processed/Ismail/ismail_19-trimmed-pad.wav', './Dataset-processed/Ismail/ismail_2-trimmed-pad.wav', './Dataset-processed/Ismail/ismail_20-trimmed-pad.wav', './Dataset-processed/Ismail/ismail_3-trimmed-pad.wav', './Dataset-processed/Ismail/ismail_4-trimmed-pad.wav', './Dataset-processed/Ismail/ismail_5-trimmed-pad.wav', './Dataset-processed/Ismail/ismail_6-trimmed-pad.wav', './Dataset-processed/Ismail/ismail_7-trimmed-pad.wav', './Dataset-processed/Ismail/ismail_8-trimmed-pad.wav', './Dataset-processed/Ismail/ismail_9-trimmed-pad.wav', './Dataset-processed/Putra/Putra_1-trimmed-pad.wav', './Dataset-processed/Putra/Putra_10-trimmed-pad.wav', './Dataset-processed/Putra/Putra_11-trimmed-pad.wav', './Dataset-processed/Putra/Putra_12-trimmed-pad.wav', './Dataset-processed/Putra/Putra_13-trimmed-pad.wav', './Dataset-processed/Putra/Putra_14-trimmed-pad.wav', './Dataset-processed/Putra/Putra_15-trimmed-pad.wav', './Dataset-processed/Putra/Putra_16-trimmed-pad.wav', './Dataset-processed/Putra/Putra_17-trimmed-pad.wav', './Dataset-processed/Putra/Putra_18-trimmed-pad.wav', './Dataset-processed/Putra/Putra_19-trimmed-pad.wav', './Dataset-processed/Putra/Putra_2-trimmed-pad.wav', './Dataset-processed/Putra/Putra_20-trimmed-pad.wav', './Dataset-processed/Putra/Putra_21-trimmed-pad.wav', './Dataset-processed/Putra/Putra_22-trimmed-pad.wav', './Dataset-processed/Putra/Putra_23-trimmed-pad.wav', './Dataset-processed/Putra/Putra_24-trimmed-pad.wav', './Dataset-processed/Putra/Putra_25-trimmed-pad.wav', './Dataset-processed/Putra/Putra_26-trimmed-pad.wav', './Dataset-processed/Putra/Putra_27-trimmed-pad.wav', './Dataset-processed/Putra/Putra_28-trimmed-pad.wav', './Dataset-processed/Putra/Putra_29-trimmed-pad.wav', './Dataset-processed/Putra/Putra_3-trimmed-pad.wav', './Dataset-processed/Putra/Putra_30-trimmed-pad.wav', './Dataset-processed/Putra/Putra_4-trimmed-pad.wav', './Dataset-processed/Putra/Putra_5-trimmed-pad.wav', './Dataset-processed/Putra/Putra_6-trimmed-pad.wav', './Dataset-processed/Putra/Putra_7-trimmed-pad.wav', './Dataset-processed/Putra/Putra_8-trimmed-pad.wav', './Dataset-processed/Putra/Putra_9-trimmed-pad.wav', './Dataset-processed/Rya/rya_1-trimmed-pad.wav', './Dataset-processed/Rya/rya_10-trimmed-pad.wav', './Dataset-processed/Rya/rya_11-trimmed-pad.wav', './Dataset-processed/Rya/rya_12-trimmed-pad.wav', './Dataset-processed/Rya/rya_13-trimmed-pad.wav', './Dataset-processed/Rya/rya_14-trimmed-pad.wav', './Dataset-processed/Rya/rya_15-trimmed-pad.wav', './Dataset-processed/Rya/rya_16-trimmed-pad.wav', './Dataset-processed/Rya/rya_17-trimmed-pad.wav', './Dataset-processed/Rya/rya_18-trimmed-pad.wav', './Dataset-processed/Rya/rya_19-trimmed-pad.wav', './Dataset-processed/Rya/rya_2-trimmed-pad.wav', './Dataset-processed/Rya/rya_20-trimmed-pad.wav', './Dataset-processed/Rya/rya_21-trimmed-pad.wav', './Dataset-processed/Rya/rya_22-trimmed-pad.wav', './Dataset-processed/Rya/rya_23-trimmed-pad.wav', './Dataset-processed/Rya/rya_24-trimmed-pad.wav', './Dataset-processed/Rya/rya_25-trimmed-pad.wav', './Dataset-processed/Rya/rya_26-trimmed-pad.wav', './Dataset-processed/Rya/rya_27-trimmed-pad.wav', './Dataset-processed/Rya/rya_28-trimmed-pad.wav', './Dataset-processed/Rya/rya_29-trimmed-pad.wav', './Dataset-processed/Rya/rya_3-trimmed-pad.wav', './Dataset-processed/Rya/rya_30-trimmed-pad.wav', './Dataset-processed/Rya/rya_4-trimmed-pad.wav', './Dataset-processed/Rya/rya_5-trimmed-pad.wav', './Dataset-processed/Rya/rya_6-trimmed-pad.wav', './Dataset-processed/Rya/rya_7-trimmed-pad.wav', './Dataset-processed/Rya/rya_8-trimmed-pad.wav', './Dataset-processed/Rya/rya_9-trimmed-pad.wav']\n"
          ]
        }
      ],
      "execution_count": 54,
      "metadata": {
        "collapsed": false,
        "outputHidden": false,
        "inputHidden": false
      }
    },
    {
      "cell_type": "code",
      "source": [
        "len(mfcc)"
      ],
      "outputs": [
        {
          "output_type": "execute_result",
          "execution_count": 109,
          "data": {
            "text/plain": [
              "75"
            ]
          },
          "metadata": {}
        }
      ],
      "execution_count": 109,
      "metadata": {
        "collapsed": false,
        "outputHidden": false,
        "inputHidden": false
      }
    },
    {
      "cell_type": "code",
      "source": [
        "#fcking list comprehension\n",
        "#M = [[1,2,3],\n",
        "#     [3,4,5],\n",
        "#     [6,7,8]]\n",
        "#print([sum([row[i] for row in M]) for i in range(0,len(M[0]))])\n",
        "#print([x / len(M[0]) for x in [sum([row[i] for row in M]) for i in range(0,len(M[0]))]])"
      ],
      "outputs": [
        {
          "output_type": "stream",
          "name": "stdout",
          "text": [
            "[10, 13, 16]\n",
            "[3.3333333333333335, 4.333333333333333, 5.333333333333333]\n"
          ]
        }
      ],
      "execution_count": 48,
      "metadata": {
        "collapsed": false,
        "outputHidden": false,
        "inputHidden": false
      }
    },
    {
      "cell_type": "code",
      "source": [],
      "outputs": [],
      "execution_count": 29,
      "metadata": {
        "collapsed": false,
        "outputHidden": false,
        "inputHidden": false
      }
    },
    {
      "cell_type": "code",
      "source": [],
      "outputs": [],
      "execution_count": null,
      "metadata": {
        "collapsed": false,
        "outputHidden": false,
        "inputHidden": false
      }
    },
    {
      "cell_type": "code",
      "source": [],
      "outputs": [],
      "execution_count": null,
      "metadata": {
        "collapsed": false,
        "outputHidden": false,
        "inputHidden": false
      }
    },
    {
      "cell_type": "code",
      "source": [],
      "outputs": [],
      "execution_count": null,
      "metadata": {
        "collapsed": false,
        "outputHidden": false,
        "inputHidden": false
      }
    },
    {
      "cell_type": "code",
      "source": [],
      "outputs": [],
      "execution_count": null,
      "metadata": {
        "collapsed": false,
        "outputHidden": false,
        "inputHidden": false
      }
    }
  ],
  "metadata": {
    "kernelspec": {
      "name": "python3",
      "language": "python",
      "display_name": "Python 3"
    },
    "language_info": {
      "name": "python",
      "version": "3.6.4",
      "mimetype": "text/x-python",
      "codemirror_mode": {
        "name": "ipython",
        "version": 3
      },
      "pygments_lexer": "ipython3",
      "nbconvert_exporter": "python",
      "file_extension": ".py"
    },
    "kernel_info": {
      "name": "python3"
    },
    "nteract": {
      "version": "0.8.4"
    }
  },
  "nbformat": 4,
  "nbformat_minor": 2
}