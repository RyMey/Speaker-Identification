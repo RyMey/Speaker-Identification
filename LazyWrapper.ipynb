{
  "cells": [
    {
      "cell_type": "code",
      "source": [
        "from ipynb.fs.full.MFCCedit import getMFCC\n",
        "import os\n",
        "import csv\n",
        "import glob\n",
        "mfccdataset=[[\"filename\",\"person\",\"samplenumber\", \"chep1\", \"chep2\", \"chep3\", \"chep4\", \"chep5\", \"chep6\", \"chep7\", \"chep8\", \"chep9\", \"chep10\", \"chep11\", \"chep12\", \"chep3\"]]\n",
        "def mfccloader(filepath):\n",
        "    mfcc=getMFCC(filepath)\n",
        "    filename=os.path.basename(filepath)\n",
        "    for framenum in range(0, len(mfcc)):\n",
        "        person, samplenumber=filename.split(\".\", 1)[0].split(\"_\", 2)\n",
        "        writebuffer=[filename, person, samplenumber, framenum]\n",
        "        writebuffer.extend(mfcc[framenum])\n",
        "        csvfile = open('example2.csv', 'a')\n",
        "        writer = csv.writer(csvfile, delimiter=',')\n",
        "        writer.writerow(writebuffer)\n",
        "\n    "
      ],
      "outputs": [],
      "execution_count": 147,
      "metadata": {
        "collapsed": false,
        "outputHidden": false,
        "inputHidden": false
      }
    },
    {
      "cell_type": "code",
      "source": [
        "filelist=glob.glob(\"./Dataset/Rya/*\")\n",
        "filelist.sort()\n",
        "for filepath in filelist:\n",
        "    mfccloader(filepath)\n",
        "    \n",
        "print(filelist)"
      ],
      "outputs": [
        {
          "output_type": "stream",
          "name": "stdout",
          "text": [
            "['./Dataset/Rya/rya_1.wav', './Dataset/Rya/rya_10.wav', './Dataset/Rya/rya_11.wav', './Dataset/Rya/rya_12.wav', './Dataset/Rya/rya_13.wav', './Dataset/Rya/rya_14.wav', './Dataset/Rya/rya_15.wav', './Dataset/Rya/rya_16.wav', './Dataset/Rya/rya_17.wav', './Dataset/Rya/rya_18.wav', './Dataset/Rya/rya_19.wav', './Dataset/Rya/rya_2.wav', './Dataset/Rya/rya_20.wav', './Dataset/Rya/rya_3.wav', './Dataset/Rya/rya_4.wav', './Dataset/Rya/rya_5.wav', './Dataset/Rya/rya_6.wav', './Dataset/Rya/rya_7.wav', './Dataset/Rya/rya_8.wav', './Dataset/Rya/rya_9.wav']\n"
          ]
        }
      ],
      "execution_count": 148,
      "metadata": {
        "collapsed": false,
        "outputHidden": false,
        "inputHidden": false
      }
    },
    {
      "cell_type": "code",
      "source": [
        "len(mfcc)"
      ],
      "outputs": [
        {
          "output_type": "execute_result",
          "execution_count": 109,
          "data": {
            "text/plain": [
              "75"
            ]
          },
          "metadata": {}
        }
      ],
      "execution_count": 109,
      "metadata": {
        "collapsed": false,
        "outputHidden": false,
        "inputHidden": false
      }
    },
    {
      "cell_type": "code",
      "source": [],
      "outputs": [],
      "execution_count": null,
      "metadata": {
        "collapsed": false,
        "outputHidden": false,
        "inputHidden": false
      }
    }
  ],
  "metadata": {
    "kernelspec": {
      "name": "python3",
      "language": "python",
      "display_name": "Python 3"
    },
    "language_info": {
      "name": "python",
      "version": "3.6.4",
      "mimetype": "text/x-python",
      "codemirror_mode": {
        "name": "ipython",
        "version": 3
      },
      "pygments_lexer": "ipython3",
      "nbconvert_exporter": "python",
      "file_extension": ".py"
    },
    "kernel_info": {
      "name": "python3"
    },
    "nteract": {
      "version": "0.8.4"
    }
  },
  "nbformat": 4,
  "nbformat_minor": 2
}