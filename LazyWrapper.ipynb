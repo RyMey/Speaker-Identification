{
  "cells": [
    {
      "cell_type": "code",
      "source": [
        "from ipynb.fs.full.MFCCedit import getMFCC\n",
        "import os\n",
        "import csv\n",
        "import glob\n",
        "mfccdataset=[[\"filename\",\"person\",\"samplenumber\", \"chep1\", \"chep2\", \"chep3\", \"chep4\", \"chep5\", \"chep6\", \"chep7\", \"chep8\", \"chep9\", \"chep10\", \"chep11\", \"chep12\", \"chep3\"]]\n",
        "def mfccloader(filepath):\n",
        "    mfcc=getMFCC(filepath)\n",
        "    filename=os.path.basename(filepath)\n",
        "    person, samplenumber=filename.split(\".\", 1)[0].split(\"_\", 2)\n",
        "    writebuffer=[filename, person, samplenumber]\n",
        "    writebuffer.extend(mfcc[0])\n",
        "    csvfile = open('example2.csv', 'a')\n",
        "    writer = csv.writer(csvfile, delimiter=',')\n",
        "    writer.writerow(writebuffer)\n",
        "    #print(writebuffer)\n",
        "    #mfccdataset.append(writebuffer)\n",
        "    #csvfile = open('example2.csv', 'a')\n",
        "    #with csvfile:\n",
        "    #    writer = csv.writer(csvfile, delimiter=',')\n",
        "    #    writer.writerows(mfccdataset)\n",
        "    "
      ],
      "outputs": [],
      "execution_count": 101,
      "metadata": {
        "collapsed": false,
        "outputHidden": false,
        "inputHidden": false
      }
    },
    {
      "cell_type": "code",
      "source": [
        "filelist=glob.glob(\"./Dataset/Rya/*\")\n",
        "for filepath in filelist:\n",
        "    mfccloader(filepath)\n",
        "    \n",
        "print(filelist)"
      ],
      "outputs": [
        {
          "output_type": "error",
          "ename": "TypeError",
          "evalue": "'NoneType' object is not iterable",
          "traceback": [
            "\u001b[0;31m---------------------------------------------------------------------------\u001b[0m",
            "\u001b[0;31mTypeError\u001b[0m                                 Traceback (most recent call last)",
            "\u001b[0;32m<ipython-input-104-57b6de8006f6>\u001b[0m in \u001b[0;36m<module>\u001b[0;34m()\u001b[0m\n\u001b[1;32m      1\u001b[0m \u001b[0mfilelist\u001b[0m\u001b[0;34m=\u001b[0m\u001b[0mglob\u001b[0m\u001b[0;34m.\u001b[0m\u001b[0mglob\u001b[0m\u001b[0;34m(\u001b[0m\u001b[0;34m\"./Dataset/Rya/*\"\u001b[0m\u001b[0;34m)\u001b[0m\u001b[0;34m\u001b[0m\u001b[0m\n\u001b[1;32m      2\u001b[0m \u001b[0mfilelist\u001b[0m\u001b[0;34m=\u001b[0m\u001b[0mfilelist\u001b[0m\u001b[0;34m.\u001b[0m\u001b[0msort\u001b[0m\u001b[0;34m(\u001b[0m\u001b[0;34m)\u001b[0m\u001b[0;34m\u001b[0m\u001b[0m\n\u001b[0;32m----> 3\u001b[0;31m \u001b[0;32mfor\u001b[0m \u001b[0mfilepath\u001b[0m \u001b[0;32min\u001b[0m \u001b[0mfilelist\u001b[0m\u001b[0;34m:\u001b[0m\u001b[0;34m\u001b[0m\u001b[0m\n\u001b[0m\u001b[1;32m      4\u001b[0m     \u001b[0mmfccloader\u001b[0m\u001b[0;34m(\u001b[0m\u001b[0mfilepath\u001b[0m\u001b[0;34m)\u001b[0m\u001b[0;34m\u001b[0m\u001b[0m\n\u001b[1;32m      5\u001b[0m \u001b[0;34m\u001b[0m\u001b[0m\n",
            "\u001b[0;31mTypeError\u001b[0m: 'NoneType' object is not iterable"
          ]
        }
      ],
      "execution_count": 104,
      "metadata": {
        "collapsed": false,
        "outputHidden": false,
        "inputHidden": false
      }
    },
    {
      "cell_type": "code",
      "source": [],
      "outputs": [],
      "execution_count": null,
      "metadata": {
        "collapsed": false,
        "outputHidden": false,
        "inputHidden": false
      }
    }
  ],
  "metadata": {
    "kernelspec": {
      "name": "python3",
      "language": "python",
      "display_name": "Python 3"
    },
    "language_info": {
      "name": "python",
      "version": "3.6.4",
      "mimetype": "text/x-python",
      "codemirror_mode": {
        "name": "ipython",
        "version": 3
      },
      "pygments_lexer": "ipython3",
      "nbconvert_exporter": "python",
      "file_extension": ".py"
    },
    "kernel_info": {
      "name": "python3"
    },
    "nteract": {
      "version": "0.8.4"
    }
  },
  "nbformat": 4,
  "nbformat_minor": 2
}